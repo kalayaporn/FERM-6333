{
 "cells": [
  {
   "cell_type": "code",
   "execution_count": 1,
   "metadata": {
    "collapsed": true
   },
   "outputs": [],
   "source": [
    "# Kalayaporn Wangsthaporn\n",
    "# Assignment 4\n",
    "# Machine Learning"
   ]
  },
  {
   "cell_type": "code",
   "execution_count": 2,
   "metadata": {
    "collapsed": true
   },
   "outputs": [],
   "source": [
    "import pandas as pd\n",
    "import numpy as np\n",
    "from sklearn.ensemble import RandomForestRegressor \n",
    "from sklearn.metrics import  mean_squared_error"
   ]
  },
  {
   "cell_type": "code",
   "execution_count": 3,
   "metadata": {
    "collapsed": true
   },
   "outputs": [],
   "source": [
    "cdsdata = pd.read_stata(\"/Users/kalayaporn/Desktop/cds_spread5y_2001_2016.dta\")"
   ]
  },
  {
   "cell_type": "code",
   "execution_count": 4,
   "metadata": {},
   "outputs": [
    {
     "data": {
      "text/plain": [
       "(169043, 9)"
      ]
     },
     "execution_count": 4,
     "metadata": {},
     "output_type": "execute_result"
    }
   ],
   "source": [
    "cdsdata.shape"
   ]
  },
  {
   "cell_type": "code",
   "execution_count": 5,
   "metadata": {},
   "outputs": [
    {
     "data": {
      "text/plain": [
       "gvkey                    object\n",
       "mdate            datetime64[ns]\n",
       "redcode                  object\n",
       "tier                     object\n",
       "ticker                   object\n",
       "shortname                object\n",
       "docclause                object\n",
       "spread5y                float64\n",
       "impliedrating            object\n",
       "dtype: object"
      ]
     },
     "execution_count": 5,
     "metadata": {},
     "output_type": "execute_result"
    }
   ],
   "source": [
    "cdsdata.dtypes"
   ]
  },
  {
   "cell_type": "code",
   "execution_count": 6,
   "metadata": {},
   "outputs": [
    {
     "data": {
      "text/html": [
       "<div>\n",
       "<style>\n",
       "    .dataframe thead tr:only-child th {\n",
       "        text-align: right;\n",
       "    }\n",
       "\n",
       "    .dataframe thead th {\n",
       "        text-align: left;\n",
       "    }\n",
       "\n",
       "    .dataframe tbody tr th {\n",
       "        vertical-align: top;\n",
       "    }\n",
       "</style>\n",
       "<table border=\"1\" class=\"dataframe\">\n",
       "  <thead>\n",
       "    <tr style=\"text-align: right;\">\n",
       "      <th></th>\n",
       "      <th>gvkey</th>\n",
       "      <th>mdate</th>\n",
       "      <th>redcode</th>\n",
       "      <th>tier</th>\n",
       "      <th>ticker</th>\n",
       "      <th>shortname</th>\n",
       "      <th>docclause</th>\n",
       "      <th>spread5y</th>\n",
       "      <th>impliedrating</th>\n",
       "    </tr>\n",
       "  </thead>\n",
       "  <tbody>\n",
       "    <tr>\n",
       "      <th>0</th>\n",
       "      <td>001038</td>\n",
       "      <td>2004-08-31</td>\n",
       "      <td>0A17CF</td>\n",
       "      <td>SNRFOR</td>\n",
       "      <td>AEN</td>\n",
       "      <td>AMC Entmt Inc</td>\n",
       "      <td>MR</td>\n",
       "      <td>0.042000</td>\n",
       "      <td>BB</td>\n",
       "    </tr>\n",
       "    <tr>\n",
       "      <th>1</th>\n",
       "      <td>001038</td>\n",
       "      <td>2005-08-31</td>\n",
       "      <td>0A17CF</td>\n",
       "      <td>SNRFOR</td>\n",
       "      <td>AEN</td>\n",
       "      <td>AMC Entmt Inc</td>\n",
       "      <td>XR</td>\n",
       "      <td>0.034000</td>\n",
       "      <td>BB</td>\n",
       "    </tr>\n",
       "    <tr>\n",
       "      <th>2</th>\n",
       "      <td>001038</td>\n",
       "      <td>2005-09-30</td>\n",
       "      <td>0A17CF</td>\n",
       "      <td>SNRFOR</td>\n",
       "      <td>AEN</td>\n",
       "      <td>AMC Entmt Inc</td>\n",
       "      <td>XR</td>\n",
       "      <td>0.034000</td>\n",
       "      <td>BB</td>\n",
       "    </tr>\n",
       "    <tr>\n",
       "      <th>3</th>\n",
       "      <td>001038</td>\n",
       "      <td>2005-10-31</td>\n",
       "      <td>0A17CF</td>\n",
       "      <td>SNRFOR</td>\n",
       "      <td>AEN</td>\n",
       "      <td>AMC Entmt Inc</td>\n",
       "      <td>XR</td>\n",
       "      <td>0.034001</td>\n",
       "      <td>BB</td>\n",
       "    </tr>\n",
       "    <tr>\n",
       "      <th>4</th>\n",
       "      <td>001038</td>\n",
       "      <td>2005-11-30</td>\n",
       "      <td>0A17CF</td>\n",
       "      <td>SNRFOR</td>\n",
       "      <td>AEN</td>\n",
       "      <td>AMC Entmt Inc</td>\n",
       "      <td>XR</td>\n",
       "      <td>0.034001</td>\n",
       "      <td>BB</td>\n",
       "    </tr>\n",
       "  </tbody>\n",
       "</table>\n",
       "</div>"
      ],
      "text/plain": [
       "    gvkey      mdate redcode    tier ticker      shortname docclause  \\\n",
       "0  001038 2004-08-31  0A17CF  SNRFOR    AEN  AMC Entmt Inc        MR   \n",
       "1  001038 2005-08-31  0A17CF  SNRFOR    AEN  AMC Entmt Inc        XR   \n",
       "2  001038 2005-09-30  0A17CF  SNRFOR    AEN  AMC Entmt Inc        XR   \n",
       "3  001038 2005-10-31  0A17CF  SNRFOR    AEN  AMC Entmt Inc        XR   \n",
       "4  001038 2005-11-30  0A17CF  SNRFOR    AEN  AMC Entmt Inc        XR   \n",
       "\n",
       "   spread5y impliedrating  \n",
       "0  0.042000            BB  \n",
       "1  0.034000            BB  \n",
       "2  0.034000            BB  \n",
       "3  0.034001            BB  \n",
       "4  0.034001            BB  "
      ]
     },
     "execution_count": 6,
     "metadata": {},
     "output_type": "execute_result"
    }
   ],
   "source": [
    "cdsdata.head()"
   ]
  },
  {
   "cell_type": "code",
   "execution_count": 7,
   "metadata": {
    "collapsed": true
   },
   "outputs": [],
   "source": [
    "qmcdata = pd.read_csv(\"/Users/kalayaporn/Desktop/Quarterly Merged CRSP-Compustat.csv\", low_memory = False)"
   ]
  },
  {
   "cell_type": "code",
   "execution_count": 8,
   "metadata": {},
   "outputs": [
    {
     "data": {
      "text/plain": [
       "(58928, 687)"
      ]
     },
     "execution_count": 8,
     "metadata": {},
     "output_type": "execute_result"
    }
   ],
   "source": [
    "qmcdata.shape"
   ]
  },
  {
   "cell_type": "code",
   "execution_count": 9,
   "metadata": {},
   "outputs": [
    {
     "data": {
      "text/plain": [
       "GVKEY          int64\n",
       "LINKPRIM      object\n",
       "LIID          object\n",
       "LINKTYPE      object\n",
       "LPERMNO        int64\n",
       "LPERMCO        int64\n",
       "LINKDT        object\n",
       "LINKENDDT     object\n",
       "datadate      object\n",
       "fyearq         int64\n",
       "fqtr           int64\n",
       "fyr            int64\n",
       "indfmt        object\n",
       "consol        object\n",
       "popsrc        object\n",
       "datafmt       object\n",
       "tic           object\n",
       "cusip         object\n",
       "conm          object\n",
       "acctchgq      object\n",
       "acctstdq      object\n",
       "adrrq        float64\n",
       "ajexq        float64\n",
       "ajpq         float64\n",
       "bsprq         object\n",
       "compstq       object\n",
       "curcdq        object\n",
       "curncdq       object\n",
       "currtrq      float64\n",
       "curuscnq     float64\n",
       "              ...   \n",
       "addzip        object\n",
       "busdesc       object\n",
       "city          object\n",
       "conml         object\n",
       "county        object\n",
       "dlrsn        float64\n",
       "ein           object\n",
       "fax           object\n",
       "fyrc           int64\n",
       "ggroup         int64\n",
       "gind           int64\n",
       "gsector        int64\n",
       "gsubind        int64\n",
       "idbflag       object\n",
       "incorp        object\n",
       "loc           object\n",
       "naics          int64\n",
       "phone         object\n",
       "prican        object\n",
       "prirow        object\n",
       "priusa         int64\n",
       "sic            int64\n",
       "spcindcd     float64\n",
       "spcseccd     float64\n",
       "spcsrc        object\n",
       "state         object\n",
       "stko         float64\n",
       "weburl        object\n",
       "dldte         object\n",
       "ipodate       object\n",
       "Length: 687, dtype: object"
      ]
     },
     "execution_count": 9,
     "metadata": {},
     "output_type": "execute_result"
    }
   ],
   "source": [
    "qmcdata.dtypes"
   ]
  },
  {
   "cell_type": "code",
   "execution_count": 10,
   "metadata": {},
   "outputs": [
    {
     "data": {
      "text/html": [
       "<div>\n",
       "<style>\n",
       "    .dataframe thead tr:only-child th {\n",
       "        text-align: right;\n",
       "    }\n",
       "\n",
       "    .dataframe thead th {\n",
       "        text-align: left;\n",
       "    }\n",
       "\n",
       "    .dataframe tbody tr th {\n",
       "        vertical-align: top;\n",
       "    }\n",
       "</style>\n",
       "<table border=\"1\" class=\"dataframe\">\n",
       "  <thead>\n",
       "    <tr style=\"text-align: right;\">\n",
       "      <th></th>\n",
       "      <th>GVKEY</th>\n",
       "      <th>LINKPRIM</th>\n",
       "      <th>LIID</th>\n",
       "      <th>LINKTYPE</th>\n",
       "      <th>LPERMNO</th>\n",
       "      <th>LPERMCO</th>\n",
       "      <th>LINKDT</th>\n",
       "      <th>LINKENDDT</th>\n",
       "      <th>datadate</th>\n",
       "      <th>fyearq</th>\n",
       "      <th>...</th>\n",
       "      <th>priusa</th>\n",
       "      <th>sic</th>\n",
       "      <th>spcindcd</th>\n",
       "      <th>spcseccd</th>\n",
       "      <th>spcsrc</th>\n",
       "      <th>state</th>\n",
       "      <th>stko</th>\n",
       "      <th>weburl</th>\n",
       "      <th>dldte</th>\n",
       "      <th>ipodate</th>\n",
       "    </tr>\n",
       "  </thead>\n",
       "  <tbody>\n",
       "    <tr>\n",
       "      <th>0</th>\n",
       "      <td>1038</td>\n",
       "      <td>P</td>\n",
       "      <td>01</td>\n",
       "      <td>LU</td>\n",
       "      <td>66413</td>\n",
       "      <td>6301</td>\n",
       "      <td>08/18/1983</td>\n",
       "      <td>12/31/2004</td>\n",
       "      <td>03/31/2001</td>\n",
       "      <td>2000</td>\n",
       "      <td>...</td>\n",
       "      <td>1</td>\n",
       "      <td>7830</td>\n",
       "      <td>245.0</td>\n",
       "      <td>978.0</td>\n",
       "      <td>NaN</td>\n",
       "      <td>MO</td>\n",
       "      <td>0.0</td>\n",
       "      <td>www.amctheatres.com</td>\n",
       "      <td>12/27/2004</td>\n",
       "      <td>NaN</td>\n",
       "    </tr>\n",
       "    <tr>\n",
       "      <th>1</th>\n",
       "      <td>1038</td>\n",
       "      <td>P</td>\n",
       "      <td>01</td>\n",
       "      <td>LU</td>\n",
       "      <td>66413</td>\n",
       "      <td>6301</td>\n",
       "      <td>08/18/1983</td>\n",
       "      <td>12/31/2004</td>\n",
       "      <td>06/30/2001</td>\n",
       "      <td>2001</td>\n",
       "      <td>...</td>\n",
       "      <td>1</td>\n",
       "      <td>7830</td>\n",
       "      <td>245.0</td>\n",
       "      <td>978.0</td>\n",
       "      <td>NaN</td>\n",
       "      <td>MO</td>\n",
       "      <td>0.0</td>\n",
       "      <td>www.amctheatres.com</td>\n",
       "      <td>12/27/2004</td>\n",
       "      <td>NaN</td>\n",
       "    </tr>\n",
       "    <tr>\n",
       "      <th>2</th>\n",
       "      <td>1038</td>\n",
       "      <td>P</td>\n",
       "      <td>01</td>\n",
       "      <td>LU</td>\n",
       "      <td>66413</td>\n",
       "      <td>6301</td>\n",
       "      <td>08/18/1983</td>\n",
       "      <td>12/31/2004</td>\n",
       "      <td>09/30/2001</td>\n",
       "      <td>2001</td>\n",
       "      <td>...</td>\n",
       "      <td>1</td>\n",
       "      <td>7830</td>\n",
       "      <td>245.0</td>\n",
       "      <td>978.0</td>\n",
       "      <td>NaN</td>\n",
       "      <td>MO</td>\n",
       "      <td>0.0</td>\n",
       "      <td>www.amctheatres.com</td>\n",
       "      <td>12/27/2004</td>\n",
       "      <td>NaN</td>\n",
       "    </tr>\n",
       "    <tr>\n",
       "      <th>3</th>\n",
       "      <td>1038</td>\n",
       "      <td>P</td>\n",
       "      <td>01</td>\n",
       "      <td>LU</td>\n",
       "      <td>66413</td>\n",
       "      <td>6301</td>\n",
       "      <td>08/18/1983</td>\n",
       "      <td>12/31/2004</td>\n",
       "      <td>12/31/2001</td>\n",
       "      <td>2001</td>\n",
       "      <td>...</td>\n",
       "      <td>1</td>\n",
       "      <td>7830</td>\n",
       "      <td>245.0</td>\n",
       "      <td>978.0</td>\n",
       "      <td>NaN</td>\n",
       "      <td>MO</td>\n",
       "      <td>0.0</td>\n",
       "      <td>www.amctheatres.com</td>\n",
       "      <td>12/27/2004</td>\n",
       "      <td>NaN</td>\n",
       "    </tr>\n",
       "    <tr>\n",
       "      <th>4</th>\n",
       "      <td>1038</td>\n",
       "      <td>P</td>\n",
       "      <td>01</td>\n",
       "      <td>LU</td>\n",
       "      <td>66413</td>\n",
       "      <td>6301</td>\n",
       "      <td>08/18/1983</td>\n",
       "      <td>12/31/2004</td>\n",
       "      <td>03/31/2002</td>\n",
       "      <td>2001</td>\n",
       "      <td>...</td>\n",
       "      <td>1</td>\n",
       "      <td>7830</td>\n",
       "      <td>245.0</td>\n",
       "      <td>978.0</td>\n",
       "      <td>NaN</td>\n",
       "      <td>MO</td>\n",
       "      <td>0.0</td>\n",
       "      <td>www.amctheatres.com</td>\n",
       "      <td>12/27/2004</td>\n",
       "      <td>NaN</td>\n",
       "    </tr>\n",
       "  </tbody>\n",
       "</table>\n",
       "<p>5 rows × 687 columns</p>\n",
       "</div>"
      ],
      "text/plain": [
       "   GVKEY LINKPRIM LIID LINKTYPE  LPERMNO  LPERMCO      LINKDT   LINKENDDT  \\\n",
       "0   1038        P   01       LU    66413     6301  08/18/1983  12/31/2004   \n",
       "1   1038        P   01       LU    66413     6301  08/18/1983  12/31/2004   \n",
       "2   1038        P   01       LU    66413     6301  08/18/1983  12/31/2004   \n",
       "3   1038        P   01       LU    66413     6301  08/18/1983  12/31/2004   \n",
       "4   1038        P   01       LU    66413     6301  08/18/1983  12/31/2004   \n",
       "\n",
       "     datadate  fyearq   ...    priusa   sic spcindcd spcseccd spcsrc state  \\\n",
       "0  03/31/2001    2000   ...         1  7830    245.0    978.0    NaN    MO   \n",
       "1  06/30/2001    2001   ...         1  7830    245.0    978.0    NaN    MO   \n",
       "2  09/30/2001    2001   ...         1  7830    245.0    978.0    NaN    MO   \n",
       "3  12/31/2001    2001   ...         1  7830    245.0    978.0    NaN    MO   \n",
       "4  03/31/2002    2001   ...         1  7830    245.0    978.0    NaN    MO   \n",
       "\n",
       "  stko               weburl       dldte ipodate  \n",
       "0  0.0  www.amctheatres.com  12/27/2004     NaN  \n",
       "1  0.0  www.amctheatres.com  12/27/2004     NaN  \n",
       "2  0.0  www.amctheatres.com  12/27/2004     NaN  \n",
       "3  0.0  www.amctheatres.com  12/27/2004     NaN  \n",
       "4  0.0  www.amctheatres.com  12/27/2004     NaN  \n",
       "\n",
       "[5 rows x 687 columns]"
      ]
     },
     "execution_count": 10,
     "metadata": {},
     "output_type": "execute_result"
    }
   ],
   "source": [
    "qmcdata.head()"
   ]
  },
  {
   "cell_type": "code",
   "execution_count": 11,
   "metadata": {
    "collapsed": true
   },
   "outputs": [],
   "source": [
    "# cdsdata\n",
    "# Convert mdate to datetime format\n",
    "# Seperate Month/ Year \n",
    "\n",
    "cdsdata['Date'] = pd.to_datetime(cdsdata['mdate'])\n",
    "cdsdata['Month'] = cdsdata['Date'].dt.month\n",
    "cdsdata['Year'] = cdsdata['Date'].dt.year"
   ]
  },
  {
   "cell_type": "code",
   "execution_count": 12,
   "metadata": {},
   "outputs": [
    {
     "data": {
      "text/html": [
       "<div>\n",
       "<style>\n",
       "    .dataframe thead tr:only-child th {\n",
       "        text-align: right;\n",
       "    }\n",
       "\n",
       "    .dataframe thead th {\n",
       "        text-align: left;\n",
       "    }\n",
       "\n",
       "    .dataframe tbody tr th {\n",
       "        vertical-align: top;\n",
       "    }\n",
       "</style>\n",
       "<table border=\"1\" class=\"dataframe\">\n",
       "  <thead>\n",
       "    <tr style=\"text-align: right;\">\n",
       "      <th></th>\n",
       "      <th>gvkey</th>\n",
       "      <th>mdate</th>\n",
       "      <th>redcode</th>\n",
       "      <th>tier</th>\n",
       "      <th>ticker</th>\n",
       "      <th>shortname</th>\n",
       "      <th>docclause</th>\n",
       "      <th>spread5y</th>\n",
       "      <th>impliedrating</th>\n",
       "      <th>Date</th>\n",
       "      <th>Month</th>\n",
       "      <th>Year</th>\n",
       "    </tr>\n",
       "  </thead>\n",
       "  <tbody>\n",
       "    <tr>\n",
       "      <th>0</th>\n",
       "      <td>001038</td>\n",
       "      <td>2004-08-31</td>\n",
       "      <td>0A17CF</td>\n",
       "      <td>SNRFOR</td>\n",
       "      <td>AEN</td>\n",
       "      <td>AMC Entmt Inc</td>\n",
       "      <td>MR</td>\n",
       "      <td>0.042000</td>\n",
       "      <td>BB</td>\n",
       "      <td>2004-08-31</td>\n",
       "      <td>8</td>\n",
       "      <td>2004</td>\n",
       "    </tr>\n",
       "    <tr>\n",
       "      <th>1</th>\n",
       "      <td>001038</td>\n",
       "      <td>2005-08-31</td>\n",
       "      <td>0A17CF</td>\n",
       "      <td>SNRFOR</td>\n",
       "      <td>AEN</td>\n",
       "      <td>AMC Entmt Inc</td>\n",
       "      <td>XR</td>\n",
       "      <td>0.034000</td>\n",
       "      <td>BB</td>\n",
       "      <td>2005-08-31</td>\n",
       "      <td>8</td>\n",
       "      <td>2005</td>\n",
       "    </tr>\n",
       "    <tr>\n",
       "      <th>2</th>\n",
       "      <td>001038</td>\n",
       "      <td>2005-09-30</td>\n",
       "      <td>0A17CF</td>\n",
       "      <td>SNRFOR</td>\n",
       "      <td>AEN</td>\n",
       "      <td>AMC Entmt Inc</td>\n",
       "      <td>XR</td>\n",
       "      <td>0.034000</td>\n",
       "      <td>BB</td>\n",
       "      <td>2005-09-30</td>\n",
       "      <td>9</td>\n",
       "      <td>2005</td>\n",
       "    </tr>\n",
       "    <tr>\n",
       "      <th>3</th>\n",
       "      <td>001038</td>\n",
       "      <td>2005-10-31</td>\n",
       "      <td>0A17CF</td>\n",
       "      <td>SNRFOR</td>\n",
       "      <td>AEN</td>\n",
       "      <td>AMC Entmt Inc</td>\n",
       "      <td>XR</td>\n",
       "      <td>0.034001</td>\n",
       "      <td>BB</td>\n",
       "      <td>2005-10-31</td>\n",
       "      <td>10</td>\n",
       "      <td>2005</td>\n",
       "    </tr>\n",
       "    <tr>\n",
       "      <th>4</th>\n",
       "      <td>001038</td>\n",
       "      <td>2005-11-30</td>\n",
       "      <td>0A17CF</td>\n",
       "      <td>SNRFOR</td>\n",
       "      <td>AEN</td>\n",
       "      <td>AMC Entmt Inc</td>\n",
       "      <td>XR</td>\n",
       "      <td>0.034001</td>\n",
       "      <td>BB</td>\n",
       "      <td>2005-11-30</td>\n",
       "      <td>11</td>\n",
       "      <td>2005</td>\n",
       "    </tr>\n",
       "  </tbody>\n",
       "</table>\n",
       "</div>"
      ],
      "text/plain": [
       "    gvkey      mdate redcode    tier ticker      shortname docclause  \\\n",
       "0  001038 2004-08-31  0A17CF  SNRFOR    AEN  AMC Entmt Inc        MR   \n",
       "1  001038 2005-08-31  0A17CF  SNRFOR    AEN  AMC Entmt Inc        XR   \n",
       "2  001038 2005-09-30  0A17CF  SNRFOR    AEN  AMC Entmt Inc        XR   \n",
       "3  001038 2005-10-31  0A17CF  SNRFOR    AEN  AMC Entmt Inc        XR   \n",
       "4  001038 2005-11-30  0A17CF  SNRFOR    AEN  AMC Entmt Inc        XR   \n",
       "\n",
       "   spread5y impliedrating       Date  Month  Year  \n",
       "0  0.042000            BB 2004-08-31      8  2004  \n",
       "1  0.034000            BB 2005-08-31      8  2005  \n",
       "2  0.034000            BB 2005-09-30      9  2005  \n",
       "3  0.034001            BB 2005-10-31     10  2005  \n",
       "4  0.034001            BB 2005-11-30     11  2005  "
      ]
     },
     "execution_count": 12,
     "metadata": {},
     "output_type": "execute_result"
    }
   ],
   "source": [
    "cdsdata.head()"
   ]
  },
  {
   "cell_type": "code",
   "execution_count": 13,
   "metadata": {},
   "outputs": [
    {
     "name": "stderr",
     "output_type": "stream",
     "text": [
      "/Users/kalayaporn/anaconda3/lib/python3.6/site-packages/ipykernel_launcher.py:7: SettingWithCopyWarning: \n",
      "A value is trying to be set on a copy of a slice from a DataFrame\n",
      "\n",
      "See the caveats in the documentation: http://pandas.pydata.org/pandas-docs/stable/indexing.html#indexing-view-versus-copy\n",
      "  import sys\n",
      "/Users/kalayaporn/anaconda3/lib/python3.6/site-packages/ipykernel_launcher.py:11: SettingWithCopyWarning: \n",
      "A value is trying to be set on a copy of a slice from a DataFrame\n",
      "\n",
      "See the caveats in the documentation: http://pandas.pydata.org/pandas-docs/stable/indexing.html#indexing-view-versus-copy\n",
      "  # This is added back by InteractiveShellApp.init_path()\n",
      "/Users/kalayaporn/anaconda3/lib/python3.6/site-packages/ipykernel_launcher.py:15: SettingWithCopyWarning: \n",
      "A value is trying to be set on a copy of a slice from a DataFrame\n",
      "\n",
      "See the caveats in the documentation: http://pandas.pydata.org/pandas-docs/stable/indexing.html#indexing-view-versus-copy\n",
      "  from ipykernel import kernelapp as app\n",
      "/Users/kalayaporn/anaconda3/lib/python3.6/site-packages/ipykernel_launcher.py:19: SettingWithCopyWarning: \n",
      "A value is trying to be set on a copy of a slice from a DataFrame\n",
      "\n",
      "See the caveats in the documentation: http://pandas.pydata.org/pandas-docs/stable/indexing.html#indexing-view-versus-copy\n"
     ]
    }
   ],
   "source": [
    "#Setting the different quarters in cdsdata\n",
    "cdsdata['Quarter'] = '4'\n",
    "\n",
    "#Convert month into 'Quarter'\n",
    "#For quarter 4\n",
    "#Month 10 - 12\n",
    "cdsdata['Quarter'][cdsdata['Month'] > 9] = '4'\n",
    "\n",
    "#For quarter 3 \n",
    "#Month 7 - 9\n",
    "cdsdata['Quarter'][(cdsdata['Month'] > 6) & (cdsdata['Month'] < 9)] = '3'\n",
    "\n",
    "#For quater 2\n",
    "#Month 4 - 6\n",
    "cdsdata['Quarter'][(cdsdata['Month'] > 3) & (cdsdata['Month'] < 6)] = '2'\n",
    "\n",
    "#For quater 1\n",
    "#Month 1 - 3\n",
    "cdsdata['Quarter'][cdsdata['Month'] < 3] = '1'\n"
   ]
  },
  {
   "cell_type": "code",
   "execution_count": 14,
   "metadata": {},
   "outputs": [
    {
     "data": {
      "text/html": [
       "<div>\n",
       "<style>\n",
       "    .dataframe thead tr:only-child th {\n",
       "        text-align: right;\n",
       "    }\n",
       "\n",
       "    .dataframe thead th {\n",
       "        text-align: left;\n",
       "    }\n",
       "\n",
       "    .dataframe tbody tr th {\n",
       "        vertical-align: top;\n",
       "    }\n",
       "</style>\n",
       "<table border=\"1\" class=\"dataframe\">\n",
       "  <thead>\n",
       "    <tr style=\"text-align: right;\">\n",
       "      <th></th>\n",
       "      <th>gvkey</th>\n",
       "      <th>mdate</th>\n",
       "      <th>redcode</th>\n",
       "      <th>tier</th>\n",
       "      <th>ticker</th>\n",
       "      <th>shortname</th>\n",
       "      <th>docclause</th>\n",
       "      <th>spread5y</th>\n",
       "      <th>impliedrating</th>\n",
       "      <th>Date</th>\n",
       "      <th>Month</th>\n",
       "      <th>Year</th>\n",
       "      <th>Quarter</th>\n",
       "    </tr>\n",
       "  </thead>\n",
       "  <tbody>\n",
       "    <tr>\n",
       "      <th>0</th>\n",
       "      <td>001038</td>\n",
       "      <td>2004-08-31</td>\n",
       "      <td>0A17CF</td>\n",
       "      <td>SNRFOR</td>\n",
       "      <td>AEN</td>\n",
       "      <td>AMC Entmt Inc</td>\n",
       "      <td>MR</td>\n",
       "      <td>0.042000</td>\n",
       "      <td>BB</td>\n",
       "      <td>2004-08-31</td>\n",
       "      <td>8</td>\n",
       "      <td>2004</td>\n",
       "      <td>3</td>\n",
       "    </tr>\n",
       "    <tr>\n",
       "      <th>1</th>\n",
       "      <td>001038</td>\n",
       "      <td>2005-08-31</td>\n",
       "      <td>0A17CF</td>\n",
       "      <td>SNRFOR</td>\n",
       "      <td>AEN</td>\n",
       "      <td>AMC Entmt Inc</td>\n",
       "      <td>XR</td>\n",
       "      <td>0.034000</td>\n",
       "      <td>BB</td>\n",
       "      <td>2005-08-31</td>\n",
       "      <td>8</td>\n",
       "      <td>2005</td>\n",
       "      <td>3</td>\n",
       "    </tr>\n",
       "    <tr>\n",
       "      <th>2</th>\n",
       "      <td>001038</td>\n",
       "      <td>2005-09-30</td>\n",
       "      <td>0A17CF</td>\n",
       "      <td>SNRFOR</td>\n",
       "      <td>AEN</td>\n",
       "      <td>AMC Entmt Inc</td>\n",
       "      <td>XR</td>\n",
       "      <td>0.034000</td>\n",
       "      <td>BB</td>\n",
       "      <td>2005-09-30</td>\n",
       "      <td>9</td>\n",
       "      <td>2005</td>\n",
       "      <td>4</td>\n",
       "    </tr>\n",
       "    <tr>\n",
       "      <th>3</th>\n",
       "      <td>001038</td>\n",
       "      <td>2005-10-31</td>\n",
       "      <td>0A17CF</td>\n",
       "      <td>SNRFOR</td>\n",
       "      <td>AEN</td>\n",
       "      <td>AMC Entmt Inc</td>\n",
       "      <td>XR</td>\n",
       "      <td>0.034001</td>\n",
       "      <td>BB</td>\n",
       "      <td>2005-10-31</td>\n",
       "      <td>10</td>\n",
       "      <td>2005</td>\n",
       "      <td>4</td>\n",
       "    </tr>\n",
       "    <tr>\n",
       "      <th>4</th>\n",
       "      <td>001038</td>\n",
       "      <td>2005-11-30</td>\n",
       "      <td>0A17CF</td>\n",
       "      <td>SNRFOR</td>\n",
       "      <td>AEN</td>\n",
       "      <td>AMC Entmt Inc</td>\n",
       "      <td>XR</td>\n",
       "      <td>0.034001</td>\n",
       "      <td>BB</td>\n",
       "      <td>2005-11-30</td>\n",
       "      <td>11</td>\n",
       "      <td>2005</td>\n",
       "      <td>4</td>\n",
       "    </tr>\n",
       "  </tbody>\n",
       "</table>\n",
       "</div>"
      ],
      "text/plain": [
       "    gvkey      mdate redcode    tier ticker      shortname docclause  \\\n",
       "0  001038 2004-08-31  0A17CF  SNRFOR    AEN  AMC Entmt Inc        MR   \n",
       "1  001038 2005-08-31  0A17CF  SNRFOR    AEN  AMC Entmt Inc        XR   \n",
       "2  001038 2005-09-30  0A17CF  SNRFOR    AEN  AMC Entmt Inc        XR   \n",
       "3  001038 2005-10-31  0A17CF  SNRFOR    AEN  AMC Entmt Inc        XR   \n",
       "4  001038 2005-11-30  0A17CF  SNRFOR    AEN  AMC Entmt Inc        XR   \n",
       "\n",
       "   spread5y impliedrating       Date  Month  Year Quarter  \n",
       "0  0.042000            BB 2004-08-31      8  2004       3  \n",
       "1  0.034000            BB 2005-08-31      8  2005       3  \n",
       "2  0.034000            BB 2005-09-30      9  2005       4  \n",
       "3  0.034001            BB 2005-10-31     10  2005       4  \n",
       "4  0.034001            BB 2005-11-30     11  2005       4  "
      ]
     },
     "execution_count": 14,
     "metadata": {},
     "output_type": "execute_result"
    }
   ],
   "source": [
    "cdsdata.head()"
   ]
  },
  {
   "cell_type": "code",
   "execution_count": 15,
   "metadata": {
    "collapsed": true
   },
   "outputs": [],
   "source": [
    "# Transform the entity type in cdsdata to float\n",
    "\n",
    "cdsdata['gvkey'] = cdsdata['gvkey'].astype(float)\n",
    "cdsdata['Quarter'] = cdsdata['Quarter'].astype(float)\n",
    "cdsdata['Year'] = cdsdata['Year'].astype(float)"
   ]
  },
  {
   "cell_type": "code",
   "execution_count": 16,
   "metadata": {
    "collapsed": true
   },
   "outputs": [],
   "source": [
    "# Change columns names in qmcdata to match colums in cdsdata\n",
    "\n",
    "qmcdata = qmcdata.rename(columns = {'datadate':'mdate'})\n",
    "qmcdata = qmcdata.rename(columns = {'GVKEY':'gvkey'})"
   ]
  },
  {
   "cell_type": "code",
   "execution_count": 17,
   "metadata": {},
   "outputs": [
    {
     "data": {
      "text/html": [
       "<div>\n",
       "<style>\n",
       "    .dataframe thead tr:only-child th {\n",
       "        text-align: right;\n",
       "    }\n",
       "\n",
       "    .dataframe thead th {\n",
       "        text-align: left;\n",
       "    }\n",
       "\n",
       "    .dataframe tbody tr th {\n",
       "        vertical-align: top;\n",
       "    }\n",
       "</style>\n",
       "<table border=\"1\" class=\"dataframe\">\n",
       "  <thead>\n",
       "    <tr style=\"text-align: right;\">\n",
       "      <th></th>\n",
       "      <th>gvkey</th>\n",
       "      <th>LINKPRIM</th>\n",
       "      <th>LIID</th>\n",
       "      <th>LINKTYPE</th>\n",
       "      <th>LPERMNO</th>\n",
       "      <th>LPERMCO</th>\n",
       "      <th>LINKDT</th>\n",
       "      <th>LINKENDDT</th>\n",
       "      <th>mdate</th>\n",
       "      <th>fyearq</th>\n",
       "      <th>...</th>\n",
       "      <th>priusa</th>\n",
       "      <th>sic</th>\n",
       "      <th>spcindcd</th>\n",
       "      <th>spcseccd</th>\n",
       "      <th>spcsrc</th>\n",
       "      <th>state</th>\n",
       "      <th>stko</th>\n",
       "      <th>weburl</th>\n",
       "      <th>dldte</th>\n",
       "      <th>ipodate</th>\n",
       "    </tr>\n",
       "  </thead>\n",
       "  <tbody>\n",
       "    <tr>\n",
       "      <th>0</th>\n",
       "      <td>1038</td>\n",
       "      <td>P</td>\n",
       "      <td>01</td>\n",
       "      <td>LU</td>\n",
       "      <td>66413</td>\n",
       "      <td>6301</td>\n",
       "      <td>08/18/1983</td>\n",
       "      <td>12/31/2004</td>\n",
       "      <td>03/31/2001</td>\n",
       "      <td>2000</td>\n",
       "      <td>...</td>\n",
       "      <td>1</td>\n",
       "      <td>7830</td>\n",
       "      <td>245.0</td>\n",
       "      <td>978.0</td>\n",
       "      <td>NaN</td>\n",
       "      <td>MO</td>\n",
       "      <td>0.0</td>\n",
       "      <td>www.amctheatres.com</td>\n",
       "      <td>12/27/2004</td>\n",
       "      <td>NaN</td>\n",
       "    </tr>\n",
       "    <tr>\n",
       "      <th>1</th>\n",
       "      <td>1038</td>\n",
       "      <td>P</td>\n",
       "      <td>01</td>\n",
       "      <td>LU</td>\n",
       "      <td>66413</td>\n",
       "      <td>6301</td>\n",
       "      <td>08/18/1983</td>\n",
       "      <td>12/31/2004</td>\n",
       "      <td>06/30/2001</td>\n",
       "      <td>2001</td>\n",
       "      <td>...</td>\n",
       "      <td>1</td>\n",
       "      <td>7830</td>\n",
       "      <td>245.0</td>\n",
       "      <td>978.0</td>\n",
       "      <td>NaN</td>\n",
       "      <td>MO</td>\n",
       "      <td>0.0</td>\n",
       "      <td>www.amctheatres.com</td>\n",
       "      <td>12/27/2004</td>\n",
       "      <td>NaN</td>\n",
       "    </tr>\n",
       "    <tr>\n",
       "      <th>2</th>\n",
       "      <td>1038</td>\n",
       "      <td>P</td>\n",
       "      <td>01</td>\n",
       "      <td>LU</td>\n",
       "      <td>66413</td>\n",
       "      <td>6301</td>\n",
       "      <td>08/18/1983</td>\n",
       "      <td>12/31/2004</td>\n",
       "      <td>09/30/2001</td>\n",
       "      <td>2001</td>\n",
       "      <td>...</td>\n",
       "      <td>1</td>\n",
       "      <td>7830</td>\n",
       "      <td>245.0</td>\n",
       "      <td>978.0</td>\n",
       "      <td>NaN</td>\n",
       "      <td>MO</td>\n",
       "      <td>0.0</td>\n",
       "      <td>www.amctheatres.com</td>\n",
       "      <td>12/27/2004</td>\n",
       "      <td>NaN</td>\n",
       "    </tr>\n",
       "    <tr>\n",
       "      <th>3</th>\n",
       "      <td>1038</td>\n",
       "      <td>P</td>\n",
       "      <td>01</td>\n",
       "      <td>LU</td>\n",
       "      <td>66413</td>\n",
       "      <td>6301</td>\n",
       "      <td>08/18/1983</td>\n",
       "      <td>12/31/2004</td>\n",
       "      <td>12/31/2001</td>\n",
       "      <td>2001</td>\n",
       "      <td>...</td>\n",
       "      <td>1</td>\n",
       "      <td>7830</td>\n",
       "      <td>245.0</td>\n",
       "      <td>978.0</td>\n",
       "      <td>NaN</td>\n",
       "      <td>MO</td>\n",
       "      <td>0.0</td>\n",
       "      <td>www.amctheatres.com</td>\n",
       "      <td>12/27/2004</td>\n",
       "      <td>NaN</td>\n",
       "    </tr>\n",
       "    <tr>\n",
       "      <th>4</th>\n",
       "      <td>1038</td>\n",
       "      <td>P</td>\n",
       "      <td>01</td>\n",
       "      <td>LU</td>\n",
       "      <td>66413</td>\n",
       "      <td>6301</td>\n",
       "      <td>08/18/1983</td>\n",
       "      <td>12/31/2004</td>\n",
       "      <td>03/31/2002</td>\n",
       "      <td>2001</td>\n",
       "      <td>...</td>\n",
       "      <td>1</td>\n",
       "      <td>7830</td>\n",
       "      <td>245.0</td>\n",
       "      <td>978.0</td>\n",
       "      <td>NaN</td>\n",
       "      <td>MO</td>\n",
       "      <td>0.0</td>\n",
       "      <td>www.amctheatres.com</td>\n",
       "      <td>12/27/2004</td>\n",
       "      <td>NaN</td>\n",
       "    </tr>\n",
       "  </tbody>\n",
       "</table>\n",
       "<p>5 rows × 687 columns</p>\n",
       "</div>"
      ],
      "text/plain": [
       "   gvkey LINKPRIM LIID LINKTYPE  LPERMNO  LPERMCO      LINKDT   LINKENDDT  \\\n",
       "0   1038        P   01       LU    66413     6301  08/18/1983  12/31/2004   \n",
       "1   1038        P   01       LU    66413     6301  08/18/1983  12/31/2004   \n",
       "2   1038        P   01       LU    66413     6301  08/18/1983  12/31/2004   \n",
       "3   1038        P   01       LU    66413     6301  08/18/1983  12/31/2004   \n",
       "4   1038        P   01       LU    66413     6301  08/18/1983  12/31/2004   \n",
       "\n",
       "        mdate  fyearq   ...    priusa   sic spcindcd spcseccd spcsrc state  \\\n",
       "0  03/31/2001    2000   ...         1  7830    245.0    978.0    NaN    MO   \n",
       "1  06/30/2001    2001   ...         1  7830    245.0    978.0    NaN    MO   \n",
       "2  09/30/2001    2001   ...         1  7830    245.0    978.0    NaN    MO   \n",
       "3  12/31/2001    2001   ...         1  7830    245.0    978.0    NaN    MO   \n",
       "4  03/31/2002    2001   ...         1  7830    245.0    978.0    NaN    MO   \n",
       "\n",
       "  stko               weburl       dldte ipodate  \n",
       "0  0.0  www.amctheatres.com  12/27/2004     NaN  \n",
       "1  0.0  www.amctheatres.com  12/27/2004     NaN  \n",
       "2  0.0  www.amctheatres.com  12/27/2004     NaN  \n",
       "3  0.0  www.amctheatres.com  12/27/2004     NaN  \n",
       "4  0.0  www.amctheatres.com  12/27/2004     NaN  \n",
       "\n",
       "[5 rows x 687 columns]"
      ]
     },
     "execution_count": 17,
     "metadata": {},
     "output_type": "execute_result"
    }
   ],
   "source": [
    "qmcdata.head()"
   ]
  },
  {
   "cell_type": "code",
   "execution_count": 18,
   "metadata": {
    "collapsed": true
   },
   "outputs": [],
   "source": [
    "# qmcdata\n",
    "# Convert mdate to datetime format\n",
    "# Seperate Month/ Year \n",
    "\n",
    "\n",
    "qmcdata['Date'] = pd.to_datetime(qmcdata['mdate'])\n",
    "qmcdata['Month'] = qmcdata['Date'].dt.month\n",
    "qmcdata['Year'] = qmcdata['Date'].dt.year"
   ]
  },
  {
   "cell_type": "code",
   "execution_count": 19,
   "metadata": {},
   "outputs": [
    {
     "name": "stderr",
     "output_type": "stream",
     "text": [
      "/Users/kalayaporn/anaconda3/lib/python3.6/site-packages/ipykernel_launcher.py:7: SettingWithCopyWarning: \n",
      "A value is trying to be set on a copy of a slice from a DataFrame\n",
      "\n",
      "See the caveats in the documentation: http://pandas.pydata.org/pandas-docs/stable/indexing.html#indexing-view-versus-copy\n",
      "  import sys\n",
      "/Users/kalayaporn/anaconda3/lib/python3.6/site-packages/ipykernel_launcher.py:11: SettingWithCopyWarning: \n",
      "A value is trying to be set on a copy of a slice from a DataFrame\n",
      "\n",
      "See the caveats in the documentation: http://pandas.pydata.org/pandas-docs/stable/indexing.html#indexing-view-versus-copy\n",
      "  # This is added back by InteractiveShellApp.init_path()\n",
      "/Users/kalayaporn/anaconda3/lib/python3.6/site-packages/ipykernel_launcher.py:15: SettingWithCopyWarning: \n",
      "A value is trying to be set on a copy of a slice from a DataFrame\n",
      "\n",
      "See the caveats in the documentation: http://pandas.pydata.org/pandas-docs/stable/indexing.html#indexing-view-versus-copy\n",
      "  from ipykernel import kernelapp as app\n",
      "/Users/kalayaporn/anaconda3/lib/python3.6/site-packages/ipykernel_launcher.py:19: SettingWithCopyWarning: \n",
      "A value is trying to be set on a copy of a slice from a DataFrame\n",
      "\n",
      "See the caveats in the documentation: http://pandas.pydata.org/pandas-docs/stable/indexing.html#indexing-view-versus-copy\n"
     ]
    }
   ],
   "source": [
    "#Setting the different quarters in qmcdata\n",
    "qmcdata['Quarter'] = '4'\n",
    "\n",
    "#Convert month into 'Quarter'\n",
    "#For quarter 4\n",
    "#Month 10 - 12\n",
    "qmcdata['Quarter'][qmcdata['Month'] > 9] = '4'\n",
    "\n",
    "#For quarter 3\n",
    "#Month 7 - 9\n",
    "qmcdata['Quarter'][(qmcdata['Month'] > 6) & (qmcdata['Month'] < 9)] = '3'\n",
    "\n",
    "#For quater 2\n",
    "#Month 4 - 6\n",
    "qmcdata['Quarter'][(qmcdata['Month'] > 3) & (qmcdata['Month'] < 6)] = '2'\n",
    "\n",
    "#For quater 1\n",
    "#Month 1 - 3 \n",
    "qmcdata['Quarter'][qmcdata['Month'] < 3] = '1'"
   ]
  },
  {
   "cell_type": "code",
   "execution_count": 20,
   "metadata": {
    "collapsed": true
   },
   "outputs": [],
   "source": [
    "# Transform the columns in qmcdata to float\n",
    "qmcdata['gvkey'] = qmcdata['gvkey'].astype(float)\n",
    "qmcdata['Quarter'] = qmcdata['Quarter'].astype(float)\n",
    "qmcdata['Year'] = qmcdata['Year'].astype(float)"
   ]
  },
  {
   "cell_type": "code",
   "execution_count": 21,
   "metadata": {
    "collapsed": true
   },
   "outputs": [],
   "source": [
    "# Merge cdsdata and qmcdata \n",
    "# Use 'gvkey' ,'Quarter' , 'Year'\n",
    "mergedata = pd.merge(qmcdata, cdsdata, on=['gvkey', 'Quarter','Year'])"
   ]
  },
  {
   "cell_type": "code",
   "execution_count": 22,
   "metadata": {},
   "outputs": [
    {
     "data": {
      "text/html": [
       "<div>\n",
       "<style>\n",
       "    .dataframe thead tr:only-child th {\n",
       "        text-align: right;\n",
       "    }\n",
       "\n",
       "    .dataframe thead th {\n",
       "        text-align: left;\n",
       "    }\n",
       "\n",
       "    .dataframe tbody tr th {\n",
       "        vertical-align: top;\n",
       "    }\n",
       "</style>\n",
       "<table border=\"1\" class=\"dataframe\">\n",
       "  <thead>\n",
       "    <tr style=\"text-align: right;\">\n",
       "      <th></th>\n",
       "      <th>gvkey</th>\n",
       "      <th>LINKPRIM</th>\n",
       "      <th>LIID</th>\n",
       "      <th>LINKTYPE</th>\n",
       "      <th>LPERMNO</th>\n",
       "      <th>LPERMCO</th>\n",
       "      <th>LINKDT</th>\n",
       "      <th>LINKENDDT</th>\n",
       "      <th>mdate_x</th>\n",
       "      <th>fyearq</th>\n",
       "      <th>...</th>\n",
       "      <th>mdate_y</th>\n",
       "      <th>redcode</th>\n",
       "      <th>tier</th>\n",
       "      <th>ticker</th>\n",
       "      <th>shortname</th>\n",
       "      <th>docclause</th>\n",
       "      <th>spread5y</th>\n",
       "      <th>impliedrating</th>\n",
       "      <th>Date_y</th>\n",
       "      <th>Month_y</th>\n",
       "    </tr>\n",
       "  </thead>\n",
       "  <tbody>\n",
       "    <tr>\n",
       "      <th>0</th>\n",
       "      <td>1045.0</td>\n",
       "      <td>P</td>\n",
       "      <td>01</td>\n",
       "      <td>LC</td>\n",
       "      <td>21020</td>\n",
       "      <td>20010</td>\n",
       "      <td>01/31/1962</td>\n",
       "      <td>01/04/2012</td>\n",
       "      <td>03/31/2002</td>\n",
       "      <td>2002</td>\n",
       "      <td>...</td>\n",
       "      <td>2002-03-31</td>\n",
       "      <td>0A18DB</td>\n",
       "      <td>SNRFOR</td>\n",
       "      <td>AMR</td>\n",
       "      <td>AMR Corp</td>\n",
       "      <td>MR</td>\n",
       "      <td>0.043750</td>\n",
       "      <td>CCC</td>\n",
       "      <td>2002-03-31</td>\n",
       "      <td>3</td>\n",
       "    </tr>\n",
       "    <tr>\n",
       "      <th>1</th>\n",
       "      <td>1045.0</td>\n",
       "      <td>P</td>\n",
       "      <td>01</td>\n",
       "      <td>LC</td>\n",
       "      <td>21020</td>\n",
       "      <td>20010</td>\n",
       "      <td>01/31/1962</td>\n",
       "      <td>01/04/2012</td>\n",
       "      <td>03/31/2002</td>\n",
       "      <td>2002</td>\n",
       "      <td>...</td>\n",
       "      <td>2002-06-30</td>\n",
       "      <td>0A18DB</td>\n",
       "      <td>SNRFOR</td>\n",
       "      <td>AMR</td>\n",
       "      <td>AMR Corp</td>\n",
       "      <td>MR</td>\n",
       "      <td>0.047925</td>\n",
       "      <td>CCC</td>\n",
       "      <td>2002-06-30</td>\n",
       "      <td>6</td>\n",
       "    </tr>\n",
       "    <tr>\n",
       "      <th>2</th>\n",
       "      <td>1045.0</td>\n",
       "      <td>P</td>\n",
       "      <td>01</td>\n",
       "      <td>LC</td>\n",
       "      <td>21020</td>\n",
       "      <td>20010</td>\n",
       "      <td>01/31/1962</td>\n",
       "      <td>01/04/2012</td>\n",
       "      <td>03/31/2002</td>\n",
       "      <td>2002</td>\n",
       "      <td>...</td>\n",
       "      <td>2002-09-30</td>\n",
       "      <td>0A18DB</td>\n",
       "      <td>SNRFOR</td>\n",
       "      <td>AMR</td>\n",
       "      <td>AMR Corp</td>\n",
       "      <td>MR</td>\n",
       "      <td>0.220847</td>\n",
       "      <td>CCC</td>\n",
       "      <td>2002-09-30</td>\n",
       "      <td>9</td>\n",
       "    </tr>\n",
       "    <tr>\n",
       "      <th>3</th>\n",
       "      <td>1045.0</td>\n",
       "      <td>P</td>\n",
       "      <td>01</td>\n",
       "      <td>LC</td>\n",
       "      <td>21020</td>\n",
       "      <td>20010</td>\n",
       "      <td>01/31/1962</td>\n",
       "      <td>01/04/2012</td>\n",
       "      <td>03/31/2002</td>\n",
       "      <td>2002</td>\n",
       "      <td>...</td>\n",
       "      <td>2002-10-31</td>\n",
       "      <td>0A18DB</td>\n",
       "      <td>SNRFOR</td>\n",
       "      <td>AMR</td>\n",
       "      <td>AMR Corp</td>\n",
       "      <td>MR</td>\n",
       "      <td>0.269216</td>\n",
       "      <td>CCC</td>\n",
       "      <td>2002-10-31</td>\n",
       "      <td>10</td>\n",
       "    </tr>\n",
       "    <tr>\n",
       "      <th>4</th>\n",
       "      <td>1045.0</td>\n",
       "      <td>P</td>\n",
       "      <td>01</td>\n",
       "      <td>LC</td>\n",
       "      <td>21020</td>\n",
       "      <td>20010</td>\n",
       "      <td>01/31/1962</td>\n",
       "      <td>01/04/2012</td>\n",
       "      <td>03/31/2002</td>\n",
       "      <td>2002</td>\n",
       "      <td>...</td>\n",
       "      <td>2002-11-30</td>\n",
       "      <td>0A18DB</td>\n",
       "      <td>SNRFOR</td>\n",
       "      <td>AMR</td>\n",
       "      <td>AMR Corp</td>\n",
       "      <td>MR</td>\n",
       "      <td>0.254322</td>\n",
       "      <td>CCC</td>\n",
       "      <td>2002-11-30</td>\n",
       "      <td>11</td>\n",
       "    </tr>\n",
       "  </tbody>\n",
       "</table>\n",
       "<p>5 rows × 701 columns</p>\n",
       "</div>"
      ],
      "text/plain": [
       "    gvkey LINKPRIM LIID LINKTYPE  LPERMNO  LPERMCO      LINKDT   LINKENDDT  \\\n",
       "0  1045.0        P   01       LC    21020    20010  01/31/1962  01/04/2012   \n",
       "1  1045.0        P   01       LC    21020    20010  01/31/1962  01/04/2012   \n",
       "2  1045.0        P   01       LC    21020    20010  01/31/1962  01/04/2012   \n",
       "3  1045.0        P   01       LC    21020    20010  01/31/1962  01/04/2012   \n",
       "4  1045.0        P   01       LC    21020    20010  01/31/1962  01/04/2012   \n",
       "\n",
       "      mdate_x  fyearq   ...      mdate_y  redcode    tier ticker shortname  \\\n",
       "0  03/31/2002    2002   ...   2002-03-31   0A18DB  SNRFOR    AMR  AMR Corp   \n",
       "1  03/31/2002    2002   ...   2002-06-30   0A18DB  SNRFOR    AMR  AMR Corp   \n",
       "2  03/31/2002    2002   ...   2002-09-30   0A18DB  SNRFOR    AMR  AMR Corp   \n",
       "3  03/31/2002    2002   ...   2002-10-31   0A18DB  SNRFOR    AMR  AMR Corp   \n",
       "4  03/31/2002    2002   ...   2002-11-30   0A18DB  SNRFOR    AMR  AMR Corp   \n",
       "\n",
       "  docclause  spread5y impliedrating     Date_y Month_y  \n",
       "0        MR  0.043750           CCC 2002-03-31       3  \n",
       "1        MR  0.047925           CCC 2002-06-30       6  \n",
       "2        MR  0.220847           CCC 2002-09-30       9  \n",
       "3        MR  0.269216           CCC 2002-10-31      10  \n",
       "4        MR  0.254322           CCC 2002-11-30      11  \n",
       "\n",
       "[5 rows x 701 columns]"
      ]
     },
     "execution_count": 22,
     "metadata": {},
     "output_type": "execute_result"
    }
   ],
   "source": [
    "mergedata.head()"
   ]
  },
  {
   "cell_type": "code",
   "execution_count": 23,
   "metadata": {
    "collapsed": true
   },
   "outputs": [],
   "source": [
    "# Extract only numerical records \n",
    "numerics = ['int16', 'int32', 'int64', 'float16', 'float32', 'float64']"
   ]
  },
  {
   "cell_type": "code",
   "execution_count": 24,
   "metadata": {
    "collapsed": true
   },
   "outputs": [],
   "source": [
    "# Mergedata without non-numerical data\n",
    "mergedata = mergedata.select_dtypes(include=numerics)"
   ]
  },
  {
   "cell_type": "code",
   "execution_count": 25,
   "metadata": {
    "collapsed": true
   },
   "outputs": [],
   "source": [
    "# Pre processing data\n",
    "# Replace NA with median \n",
    "mergedata=mergedata.fillna(mergedata.median())"
   ]
  },
  {
   "cell_type": "code",
   "execution_count": 26,
   "metadata": {
    "collapsed": true
   },
   "outputs": [],
   "source": [
    "# Remove missing value variable\n",
    "mergedata=mergedata.dropna(axis=1, how='any')"
   ]
  },
  {
   "cell_type": "code",
   "execution_count": 27,
   "metadata": {},
   "outputs": [
    {
     "data": {
      "text/html": [
       "<div>\n",
       "<style>\n",
       "    .dataframe thead tr:only-child th {\n",
       "        text-align: right;\n",
       "    }\n",
       "\n",
       "    .dataframe thead th {\n",
       "        text-align: left;\n",
       "    }\n",
       "\n",
       "    .dataframe tbody tr th {\n",
       "        vertical-align: top;\n",
       "    }\n",
       "</style>\n",
       "<table border=\"1\" class=\"dataframe\">\n",
       "  <thead>\n",
       "    <tr style=\"text-align: right;\">\n",
       "      <th></th>\n",
       "      <th>gvkey</th>\n",
       "      <th>LPERMNO</th>\n",
       "      <th>LPERMCO</th>\n",
       "      <th>fyearq</th>\n",
       "      <th>fqtr</th>\n",
       "      <th>fyr</th>\n",
       "      <th>adrrq</th>\n",
       "      <th>ajexq</th>\n",
       "      <th>ajpq</th>\n",
       "      <th>currtrq</th>\n",
       "      <th>...</th>\n",
       "      <th>priusa</th>\n",
       "      <th>sic</th>\n",
       "      <th>spcindcd</th>\n",
       "      <th>spcseccd</th>\n",
       "      <th>stko</th>\n",
       "      <th>Month_x</th>\n",
       "      <th>Year</th>\n",
       "      <th>Quarter</th>\n",
       "      <th>spread5y</th>\n",
       "      <th>Month_y</th>\n",
       "    </tr>\n",
       "  </thead>\n",
       "  <tbody>\n",
       "    <tr>\n",
       "      <th>0</th>\n",
       "      <td>1045.0</td>\n",
       "      <td>21020</td>\n",
       "      <td>20010</td>\n",
       "      <td>2002</td>\n",
       "      <td>1</td>\n",
       "      <td>12</td>\n",
       "      <td>1.0</td>\n",
       "      <td>1.0</td>\n",
       "      <td>1.0</td>\n",
       "      <td>1.0</td>\n",
       "      <td>...</td>\n",
       "      <td>4</td>\n",
       "      <td>4512</td>\n",
       "      <td>605.0</td>\n",
       "      <td>600.0</td>\n",
       "      <td>0.0</td>\n",
       "      <td>3</td>\n",
       "      <td>2002.0</td>\n",
       "      <td>4.0</td>\n",
       "      <td>0.043750</td>\n",
       "      <td>3</td>\n",
       "    </tr>\n",
       "    <tr>\n",
       "      <th>1</th>\n",
       "      <td>1045.0</td>\n",
       "      <td>21020</td>\n",
       "      <td>20010</td>\n",
       "      <td>2002</td>\n",
       "      <td>1</td>\n",
       "      <td>12</td>\n",
       "      <td>1.0</td>\n",
       "      <td>1.0</td>\n",
       "      <td>1.0</td>\n",
       "      <td>1.0</td>\n",
       "      <td>...</td>\n",
       "      <td>4</td>\n",
       "      <td>4512</td>\n",
       "      <td>605.0</td>\n",
       "      <td>600.0</td>\n",
       "      <td>0.0</td>\n",
       "      <td>3</td>\n",
       "      <td>2002.0</td>\n",
       "      <td>4.0</td>\n",
       "      <td>0.047925</td>\n",
       "      <td>6</td>\n",
       "    </tr>\n",
       "    <tr>\n",
       "      <th>2</th>\n",
       "      <td>1045.0</td>\n",
       "      <td>21020</td>\n",
       "      <td>20010</td>\n",
       "      <td>2002</td>\n",
       "      <td>1</td>\n",
       "      <td>12</td>\n",
       "      <td>1.0</td>\n",
       "      <td>1.0</td>\n",
       "      <td>1.0</td>\n",
       "      <td>1.0</td>\n",
       "      <td>...</td>\n",
       "      <td>4</td>\n",
       "      <td>4512</td>\n",
       "      <td>605.0</td>\n",
       "      <td>600.0</td>\n",
       "      <td>0.0</td>\n",
       "      <td>3</td>\n",
       "      <td>2002.0</td>\n",
       "      <td>4.0</td>\n",
       "      <td>0.220847</td>\n",
       "      <td>9</td>\n",
       "    </tr>\n",
       "    <tr>\n",
       "      <th>3</th>\n",
       "      <td>1045.0</td>\n",
       "      <td>21020</td>\n",
       "      <td>20010</td>\n",
       "      <td>2002</td>\n",
       "      <td>1</td>\n",
       "      <td>12</td>\n",
       "      <td>1.0</td>\n",
       "      <td>1.0</td>\n",
       "      <td>1.0</td>\n",
       "      <td>1.0</td>\n",
       "      <td>...</td>\n",
       "      <td>4</td>\n",
       "      <td>4512</td>\n",
       "      <td>605.0</td>\n",
       "      <td>600.0</td>\n",
       "      <td>0.0</td>\n",
       "      <td>3</td>\n",
       "      <td>2002.0</td>\n",
       "      <td>4.0</td>\n",
       "      <td>0.269216</td>\n",
       "      <td>10</td>\n",
       "    </tr>\n",
       "    <tr>\n",
       "      <th>4</th>\n",
       "      <td>1045.0</td>\n",
       "      <td>21020</td>\n",
       "      <td>20010</td>\n",
       "      <td>2002</td>\n",
       "      <td>1</td>\n",
       "      <td>12</td>\n",
       "      <td>1.0</td>\n",
       "      <td>1.0</td>\n",
       "      <td>1.0</td>\n",
       "      <td>1.0</td>\n",
       "      <td>...</td>\n",
       "      <td>4</td>\n",
       "      <td>4512</td>\n",
       "      <td>605.0</td>\n",
       "      <td>600.0</td>\n",
       "      <td>0.0</td>\n",
       "      <td>3</td>\n",
       "      <td>2002.0</td>\n",
       "      <td>4.0</td>\n",
       "      <td>0.254322</td>\n",
       "      <td>11</td>\n",
       "    </tr>\n",
       "  </tbody>\n",
       "</table>\n",
       "<p>5 rows × 637 columns</p>\n",
       "</div>"
      ],
      "text/plain": [
       "    gvkey  LPERMNO  LPERMCO  fyearq  fqtr  fyr  adrrq  ajexq  ajpq  currtrq  \\\n",
       "0  1045.0    21020    20010    2002     1   12    1.0    1.0   1.0      1.0   \n",
       "1  1045.0    21020    20010    2002     1   12    1.0    1.0   1.0      1.0   \n",
       "2  1045.0    21020    20010    2002     1   12    1.0    1.0   1.0      1.0   \n",
       "3  1045.0    21020    20010    2002     1   12    1.0    1.0   1.0      1.0   \n",
       "4  1045.0    21020    20010    2002     1   12    1.0    1.0   1.0      1.0   \n",
       "\n",
       "    ...     priusa   sic  spcindcd  spcseccd  stko  Month_x    Year  Quarter  \\\n",
       "0   ...          4  4512     605.0     600.0   0.0        3  2002.0      4.0   \n",
       "1   ...          4  4512     605.0     600.0   0.0        3  2002.0      4.0   \n",
       "2   ...          4  4512     605.0     600.0   0.0        3  2002.0      4.0   \n",
       "3   ...          4  4512     605.0     600.0   0.0        3  2002.0      4.0   \n",
       "4   ...          4  4512     605.0     600.0   0.0        3  2002.0      4.0   \n",
       "\n",
       "   spread5y  Month_y  \n",
       "0  0.043750        3  \n",
       "1  0.047925        6  \n",
       "2  0.220847        9  \n",
       "3  0.269216       10  \n",
       "4  0.254322       11  \n",
       "\n",
       "[5 rows x 637 columns]"
      ]
     },
     "execution_count": 27,
     "metadata": {},
     "output_type": "execute_result"
    }
   ],
   "source": [
    "mergedata.head()"
   ]
  },
  {
   "cell_type": "code",
   "execution_count": 28,
   "metadata": {
    "collapsed": true
   },
   "outputs": [],
   "source": [
    "# Split the dataset \n",
    "# Test Dataset\n",
    "TestData = mergedata[(mergedata['Year'] >= 2016) & (mergedata['Year'] <= 2018)]"
   ]
  },
  {
   "cell_type": "code",
   "execution_count": 29,
   "metadata": {
    "collapsed": true
   },
   "outputs": [],
   "source": [
    "# Split x and y for test data\n",
    "X_test = TestData.drop('spread5y', axis=1)\n",
    "y_test = TestData['spread5y']"
   ]
  },
  {
   "cell_type": "code",
   "execution_count": 30,
   "metadata": {
    "collapsed": true
   },
   "outputs": [],
   "source": [
    "# Remove other variables or featires in dataset\n",
    "X_test= X_test.drop('Month_x', axis=1)\n",
    "X_test= X_test.drop('Month_y', axis=1)\n",
    "X_test= X_test.drop('Quarter', axis=1)\n",
    "X_test= X_test.drop('Year', axis=1)\n",
    "X_test= X_test.drop('gvkey', axis=1)"
   ]
  },
  {
   "cell_type": "code",
   "execution_count": 31,
   "metadata": {
    "collapsed": true
   },
   "outputs": [],
   "source": [
    "# Train Dataset\n",
    "TrainData=mergedata[(mergedata['Year'] < 2016)]"
   ]
  },
  {
   "cell_type": "code",
   "execution_count": 32,
   "metadata": {
    "collapsed": true
   },
   "outputs": [],
   "source": [
    "# Split x and y for train data\n",
    "X_train = TrainData.drop('spread5y', axis=1)\n",
    "y_train = TrainData['spread5y']"
   ]
  },
  {
   "cell_type": "code",
   "execution_count": 33,
   "metadata": {
    "collapsed": true
   },
   "outputs": [],
   "source": [
    "# Remove other variables or featires in dataset\n",
    "X_train= X_train.drop('Month_x', axis=1)\n",
    "X_train= X_train.drop('Month_y', axis=1)\n",
    "X_train= X_train.drop('Quarter', axis=1)\n",
    "X_train= X_train.drop('Year', axis=1)\n",
    "X_train= X_train.drop('gvkey', axis=1)"
   ]
  },
  {
   "cell_type": "code",
   "execution_count": 34,
   "metadata": {},
   "outputs": [
    {
     "data": {
      "text/plain": [
       "RandomForestRegressor(bootstrap=True, criterion='mse', max_depth=None,\n",
       "           max_features='auto', max_leaf_nodes=None,\n",
       "           min_impurity_decrease=0.0, min_impurity_split=None,\n",
       "           min_samples_leaf=1, min_samples_split=2,\n",
       "           min_weight_fraction_leaf=0.0, n_estimators=50, n_jobs=1,\n",
       "           oob_score=False, random_state=None, verbose=0, warm_start=False)"
      ]
     },
     "execution_count": 34,
     "metadata": {},
     "output_type": "execute_result"
    }
   ],
   "source": [
    "# Run Random Forest (RF) on TrainData\n",
    "RF = RandomForestRegressor(n_estimators=50) \n",
    "RF.fit(X_train, y_train)"
   ]
  },
  {
   "cell_type": "code",
   "execution_count": 35,
   "metadata": {
    "collapsed": true
   },
   "outputs": [],
   "source": [
    "# Score the model in the TestData\n",
    "RF.score(X_test, y_test)\n",
    "RF_pred = RF.predict(X_test)"
   ]
  },
  {
   "cell_type": "code",
   "execution_count": 36,
   "metadata": {},
   "outputs": [
    {
     "data": {
      "text/plain": [
       "44.76370214725335"
      ]
     },
     "execution_count": 36,
     "metadata": {},
     "output_type": "execute_result"
    }
   ],
   "source": [
    "ImpF=RF.feature_importances_\n",
    "ImpF = pd.DataFrame(RF.feature_importances_,\n",
    "                    index = X_train.columns,\n",
    "                    columns=['importance']).sort_values('importance',ascending=False)\n",
    "\n",
    "# Top 50 importance features\n",
    "Feature_50 = ImpF.iloc[:50,:]\n",
    "Feature_50 = Feature_50.index.tolist()\n",
    "\n",
    "# Find Mean Absolute Percentage Error\n",
    "def mean_absolute_percentage_error(y_true, y_pred): \n",
    "    y_true, y_pred = np.array(y_true), np.array(y_pred)\n",
    "    return np.mean(np.abs((y_true - y_pred) / y_true)) * 100\n",
    "\n",
    "mean_squared_error(y_test,RF_pred)\n",
    "mean_absolute_percentage_error(y_test, RF_pred)"
   ]
  },
  {
   "cell_type": "code",
   "execution_count": 37,
   "metadata": {
    "collapsed": true
   },
   "outputs": [],
   "source": [
    "# Keep the first 50 highest importance features\n",
    "\n",
    "FilXTrain=X_train[Feature_50]\n",
    "FiltXtest=X_test[Feature_50]"
   ]
  },
  {
   "cell_type": "code",
   "execution_count": 51,
   "metadata": {},
   "outputs": [
    {
     "name": "stdout",
     "output_type": "stream",
     "text": [
      "Mean Squared Error for RandomForest with 100 trees:  0.00180599887312\n"
     ]
    }
   ],
   "source": [
    "# Random Forest \n",
    "# regressor 100\n",
    "\n",
    "RF_100 = RandomForestRegressor(n_estimators=100) \n",
    "RF_100.fit(FilXTrain,y_train)\n",
    "RF_100_pred=RF_100.predict(FiltXtest)\n",
    "\n",
    "mape_RF_100 = mean_absolute_percentage_error(y_test, RF_100_pred)\n",
    "mape_RF_100\n",
    "mse_RF_100 = mean_squared_error(y_test,RF_100_pred)\n",
    "mse_RF_100\n",
    "\n",
    "print('Mean Squared Error for RandomForest with 100 trees: ', mse_RF_100)"
   ]
  },
  {
   "cell_type": "code",
   "execution_count": 52,
   "metadata": {},
   "outputs": [
    {
     "name": "stdout",
     "output_type": "stream",
     "text": [
      "Mean Squared Error for RandomForest with 200 trees:  0.00183379501806\n"
     ]
    }
   ],
   "source": [
    "# regressor 200\n",
    "\n",
    "RF_200 = RandomForestRegressor(n_estimators=200) \n",
    "RF_200.fit(FilXTrain,y_train)\n",
    "RF_200_pred=RF_200.predict(FiltXtest)\n",
    "\n",
    "mape_RF_200 = mean_absolute_percentage_error(y_test, RF_200_pred)\n",
    "mape_RF_200\n",
    "mse_RF_200 = mean_squared_error(y_test,RF_200_pred)\n",
    "mse_RF_200\n",
    "\n",
    "print('Mean Squared Error for RandomForest with 200 trees: ', mse_RF_200)"
   ]
  },
  {
   "cell_type": "code",
   "execution_count": 48,
   "metadata": {},
   "outputs": [
    {
     "name": "stdout",
     "output_type": "stream",
     "text": [
      "Mean Squared Error for RandomForest with 500 trees:  0.0019394790978\n"
     ]
    }
   ],
   "source": [
    "# regressor 500\n",
    "\n",
    "RF_500 = RandomForestRegressor(n_estimators=500) \n",
    "RF_500.fit(FilXTrain,y_train)\n",
    "RF_500_pred = RF_500.predict(FiltXtest)\n",
    "\n",
    "mape_RF_500 = mean_absolute_percentage_error(y_test, RF_500_pred)\n",
    "mape_RF_500\n",
    "mse_RF_500 = mean_squared_error(y_test,RF_500_pred)\n",
    "mse_RF_500\n",
    "\n",
    "print('Mean Squared Error for RandomForest with 500 trees: ', mse_RF_500)"
   ]
  },
  {
   "cell_type": "code",
   "execution_count": null,
   "metadata": {},
   "outputs": [],
   "source": [
    "# regressor 1000\n",
    "\n",
    "RF_1000 = RandomForestRegressor(n_estimators=1000) \n",
    "RF_1000.fit(FilXTrain,y_train)\n",
    "RF_1000_pred = RF_1000.predict(FiltXtest)\n",
    "\n",
    "mape_RF_1000 = mean_absolute_percentage_error(y_test, RF_1000_pred)\n",
    "mape_RF_1000\n",
    "mse_RF_1000 = mean_squared_error(y_test,RF_1000_pred)\n",
    "mse_RF_1000\n",
    "\n",
    "print('Mean Squared Error for RandomForest with 1000 trees: ', mse_RF_1000)"
   ]
  },
  {
   "cell_type": "code",
   "execution_count": 53,
   "metadata": {
    "collapsed": true
   },
   "outputs": [],
   "source": [
    "# Make a list of Mean Squared Error\n",
    "\n",
    "mse_RF=[]\n",
    "mse_RF.append(mse_RF_100)\n",
    "mse_RF.append(mse_RF_200)\n",
    "mse_RF.append(mse_RF_500)\n",
    "mse_RF.append(mse_RF_1000)"
   ]
  },
  {
   "cell_type": "code",
   "execution_count": 56,
   "metadata": {
    "collapsed": true
   },
   "outputs": [],
   "source": [
    "from sklearn.ensemble import GradientBoostingRegressor \n",
    "from sklearn import ensemble\n",
    "from sklearn.metrics import mean_squared_error"
   ]
  },
  {
   "cell_type": "code",
   "execution_count": 61,
   "metadata": {},
   "outputs": [
    {
     "name": "stdout",
     "output_type": "stream",
     "text": [
      "Mean Squared Error for Gradient Boosting with 100 trees:  0.000989272853674\n"
     ]
    }
   ],
   "source": [
    "# Gradient Boost \n",
    "# 100 estimators \n",
    "\n",
    "GB_100 = ensemble.GradientBoostingRegressor(n_estimators = 100, max_depth = 3)\n",
    "GB_100.fit(FilXTrain,y_train)\n",
    "GB_100_pred = GB_100.predict(FiltXtest)\n",
    "\n",
    "mape_GB_100 = mean_absolute_percentage_error(y_test, GB_100_pred)\n",
    "mape_GB_100\n",
    "mse_GB_100 = mean_squared_error(y_test, GB_100_pred)\n",
    "mse_GB_100\n",
    "\n",
    "print('Mean Squared Error for Gradient Boosting with 100 trees: ', mse_GB_100)"
   ]
  },
  {
   "cell_type": "code",
   "execution_count": 62,
   "metadata": {},
   "outputs": [
    {
     "name": "stdout",
     "output_type": "stream",
     "text": [
      "Mean Squared Error for Gradient Boosting  with 200 trees:  0.000921578838899\n"
     ]
    }
   ],
   "source": [
    "# 200 estimators \n",
    "\n",
    "GB_200 = ensemble.GradientBoostingRegressor(n_estimators = 200, max_depth = 3)\n",
    "GB_200.fit(FilXTrain,y_train)\n",
    "GB_200_pred = GB_200.predict(FiltXtest)\n",
    "\n",
    "mape_GB_200 = mean_absolute_percentage_error(y_test, GB_200_pred)\n",
    "mape_GB_200\n",
    "mse_GB_200 = mean_squared_error(y_test, GB_200_pred)\n",
    "mse_GB_200\n",
    "\n",
    "print('Mean Squared Error for Gradient Boosting  with 200 trees: ', mse_GB_200)"
   ]
  },
  {
   "cell_type": "code",
   "execution_count": 64,
   "metadata": {},
   "outputs": [
    {
     "name": "stdout",
     "output_type": "stream",
     "text": [
      "Mean Squared Error for Gradient Boosting  with 500 trees:  0.000875303323107\n"
     ]
    }
   ],
   "source": [
    "# 500 estimators \n",
    "\n",
    "GB_500 = ensemble.GradientBoostingRegressor(n_estimators = 500, max_depth = 3)\n",
    "GB_500.fit(FilXTrain,y_train)\n",
    "GB_500_pred = GB_500.predict(FiltXtest)\n",
    "\n",
    "mape_GB_500 = mean_absolute_percentage_error(y_test, GB_500_pred)\n",
    "mape_GB_500\n",
    "mse_GB_500 = mean_squared_error(y_test, GB_500_pred)\n",
    "mse_GB_500\n",
    "\n",
    "print('Mean Squared Error for Gradient Boosting  with 500 trees: ', mse_GB_500)"
   ]
  },
  {
   "cell_type": "code",
   "execution_count": 59,
   "metadata": {},
   "outputs": [
    {
     "name": "stdout",
     "output_type": "stream",
     "text": [
      "Mean Squared Error for Gradient Boosting  with 1000 trees:  0.000838683937883\n"
     ]
    }
   ],
   "source": [
    "# 1000 estimators \n",
    "\n",
    "GB_1000 = ensemble.GradientBoostingRegressor(n_estimators = 1000, max_depth = 3)\n",
    "GB_1000.fit(FilXTrain,y_train)\n",
    "GB_1000_pred = GB_1000.predict(FiltXtest)\n",
    "\n",
    "mape_GB_1000 = mean_absolute_percentage_error(y_test, GB_1000_pred)\n",
    "mape_GB_1000\n",
    "mse_GB_1000 = mean_squared_error(y_test, GB_1000_pred)\n",
    "mse_GB_1000\n",
    "\n",
    "print('Mean Squared Error for Gradient Boosting  with 1000 trees: ', mse_GB_1000)"
   ]
  },
  {
   "cell_type": "code",
   "execution_count": 65,
   "metadata": {
    "collapsed": true
   },
   "outputs": [],
   "source": [
    "# Make a list of Mean Squared Error\n",
    "\n",
    "mse_GB=[]\n",
    "mse_GB.append(mse_GB_100)\n",
    "mse_GB.append(mse_GB_200)\n",
    "mse_GB.append(mse_GB_500)\n",
    "mse_GB.append(mse_GB_1000)"
   ]
  },
  {
   "cell_type": "code",
   "execution_count": 1,
   "metadata": {
    "collapsed": true
   },
   "outputs": [],
   "source": [
    "# XG Boosting\n",
    "\n",
    "import xgboost as xgb"
   ]
  },
  {
   "cell_type": "code",
   "execution_count": 3,
   "metadata": {},
   "outputs": [
    {
     "ename": "NameError",
     "evalue": "name 'FilXTrain' is not defined",
     "output_type": "error",
     "traceback": [
      "\u001b[0;31m---------------------------------------------------------------------------\u001b[0m",
      "\u001b[0;31mNameError\u001b[0m                                 Traceback (most recent call last)",
      "\u001b[0;32m<ipython-input-3-b2e2bf53d567>\u001b[0m in \u001b[0;36m<module>\u001b[0;34m()\u001b[0m\n\u001b[1;32m      2\u001b[0m \u001b[0;34m\u001b[0m\u001b[0m\n\u001b[1;32m      3\u001b[0m \u001b[0mXGB_100\u001b[0m \u001b[0;34m=\u001b[0m \u001b[0mxgb\u001b[0m\u001b[0;34m.\u001b[0m\u001b[0mXGBRegressor\u001b[0m\u001b[0;34m(\u001b[0m\u001b[0mn_estimators\u001b[0m\u001b[0;34m=\u001b[0m\u001b[0;36m100\u001b[0m\u001b[0;34m,\u001b[0m \u001b[0mlearning_rate\u001b[0m\u001b[0;34m=\u001b[0m\u001b[0;36m0.1\u001b[0m\u001b[0;34m,\u001b[0m \u001b[0mmax_depth\u001b[0m\u001b[0;34m=\u001b[0m\u001b[0;36m3\u001b[0m\u001b[0;34m)\u001b[0m\u001b[0;34m\u001b[0m\u001b[0m\n\u001b[0;32m----> 4\u001b[0;31m \u001b[0mXGB_100\u001b[0m\u001b[0;34m.\u001b[0m\u001b[0mfit\u001b[0m\u001b[0;34m(\u001b[0m\u001b[0mFilXTrain\u001b[0m\u001b[0;34m,\u001b[0m\u001b[0my_train\u001b[0m\u001b[0;34m)\u001b[0m\u001b[0;34m\u001b[0m\u001b[0m\n\u001b[0m\u001b[1;32m      5\u001b[0m \u001b[0mXGB_100_pred\u001b[0m \u001b[0;34m=\u001b[0m \u001b[0mXGB_100\u001b[0m\u001b[0;34m.\u001b[0m\u001b[0mpredict\u001b[0m\u001b[0;34m(\u001b[0m\u001b[0mFiltXtest\u001b[0m\u001b[0;34m)\u001b[0m\u001b[0;34m\u001b[0m\u001b[0m\n\u001b[1;32m      6\u001b[0m \u001b[0;34m\u001b[0m\u001b[0m\n",
      "\u001b[0;31mNameError\u001b[0m: name 'FilXTrain' is not defined"
     ]
    }
   ],
   "source": [
    "# 100 estimators \n",
    "\n",
    "XGB_100 = xgb.XGBRegressor(n_estimators=100, learning_rate=0.1, max_depth=3)\n",
    "XGB_100.fit(FilXTrain,y_train)\n",
    "XGB_100_pred = XGB_100.predict(FiltXtest)\n",
    "\n",
    "mape_XGB_100 = mean_absolute_percentage_error(y_test, XGB_100_pred)\n",
    "mape_XGB_100\n",
    "mse_XGB_100 = mean_squared_error(y_test, XGB_100_pred)\n",
    "mse_XGB_100\n",
    "\n",
    "print('Mean Squared Error for XGradient Boosting with 100 trees: ', mse_XGB_100)"
   ]
  },
  {
   "cell_type": "code",
   "execution_count": null,
   "metadata": {
    "collapsed": true
   },
   "outputs": [],
   "source": [
    "# 200 estimators \n",
    "\n",
    "XGB_200 = xgboost.XGBRegressor(n_estimators=200, learning_rate=0.1, max_depth=3)\n",
    "XGB_200.fit(FilXTrain,y_train)\n",
    "XGB_200_pred = XGB_200.predict(FiltXtest)\n",
    "\n",
    "mape_XGB_200 = mean_absolute_percentage_error(y_test, XGB_200_pred)\n",
    "mape_XGB_200\n",
    "mse_XGB_200 = mean_squared_error(y_test, XGB_200_pred)\n",
    "mse_XGB_200\n",
    "\n",
    "print('Mean Squared Error for XGradient Boosting with 200 trees: ', mse_XGB_200)"
   ]
  },
  {
   "cell_type": "code",
   "execution_count": null,
   "metadata": {
    "collapsed": true
   },
   "outputs": [],
   "source": [
    "# 500 estimators \n",
    "\n",
    "XGB_500 = xgboost.XGBRegressor(n_estimators=500, learning_rate=0.1, max_depth=3)\n",
    "XGB_500.fit(FilXTrain,y_train)\n",
    "XGB_500_pred = XGB_500.predict(FiltXtest)\n",
    "\n",
    "mape_XGB_500 = mean_absolute_percentage_error(y_test, XGB_500_pred)\n",
    "mape_XGB_500\n",
    "mse_XGB_500 = mean_squared_error(y_test, XGB_500_pred)\n",
    "mse_XGB_500\n",
    "\n",
    "print('Mean Squared Error for XGradient Boosting with 500 trees: ', mse_XGB_500)"
   ]
  },
  {
   "cell_type": "code",
   "execution_count": null,
   "metadata": {
    "collapsed": true
   },
   "outputs": [],
   "source": [
    "# 1000 estimators \n",
    "\n",
    "XGB_1000 = xgboost.XGBRegressor(n_estimators=1000, learning_rate=0.1, max_depth=3)\n",
    "XGB_1000.fit(FilXTrain,y_train)\n",
    "XGB_1000_pred = XGB_1000.predict(FiltXtest)\n",
    "\n",
    "mape_XGB_1000 = mean_absolute_percentage_error(y_test, XGB_1000_pred)\n",
    "mape_XGB_1000\n",
    "mse_XGB_1000 = mean_squared_error(y_test, XGB_1000_pred)\n",
    "mse_XGB_1000\n",
    "\n",
    "print('Mean Squared Error for XGradient Boosting with 1000 trees: ', %mse_XGB_1000)"
   ]
  },
  {
   "cell_type": "code",
   "execution_count": null,
   "metadata": {
    "collapsed": true
   },
   "outputs": [],
   "source": [
    "# Make a list of Mean Squared Error\n",
    "\n",
    "mse_XGB = []\n",
    "mse_XGB.append(mse_XGB_100)\n",
    "mse_XGB.append(mse_XGB_200)\n",
    "mse_XGB.append(mse_XGB_500)\n",
    "mse_XGB.append(mse_XGB_1000)"
   ]
  },
  {
   "cell_type": "code",
   "execution_count": null,
   "metadata": {
    "collapsed": true
   },
   "outputs": [],
   "source": [
    "# Plot Mean Squared Error Graph\n",
    "\n",
    "import pylab\n",
    "\n",
    "tree = [100,200,500,1000]\n",
    "\n",
    "pylab.plot(tree,mse_RF,label='Random Forest')\n",
    "pylab.plot(tree,mse_GB_list,label='Gradient Boosting' )\n",
    "pylab.plot(tree,mse_XGB,label='XGradient Boosting')\n",
    "pylab.legend(loc='upper right')\n",
    "pylab.ylabel('Mean square Error')\n",
    "pylab.xlabel('Number of Trees')\n",
    "pylab.show()"
   ]
  }
 ],
 "metadata": {
  "kernelspec": {
   "display_name": "Python 3",
   "language": "python",
   "name": "python3"
  },
  "language_info": {
   "codemirror_mode": {
    "name": "ipython",
    "version": 3
   },
   "file_extension": ".py",
   "mimetype": "text/x-python",
   "name": "python",
   "nbconvert_exporter": "python",
   "pygments_lexer": "ipython3",
   "version": "3.6.3"
  }
 },
 "nbformat": 4,
 "nbformat_minor": 2
}
